{
 "cells": [
  {
   "cell_type": "code",
   "execution_count": 1,
   "id": "specific-needle",
   "metadata": {},
   "outputs": [],
   "source": [
    "from bs4 import BeautifulSoup as bs\n",
    "import re\n",
    "from urllib.request import urlopen\n",
    "import nltk\n",
    "from nltk.stem import WordNetLemmatizer "
   ]
  },
  {
   "cell_type": "code",
   "execution_count": 2,
   "id": "unusual-grade",
   "metadata": {},
   "outputs": [
    {
     "name": "stderr",
     "output_type": "stream",
     "text": [
      "[nltk_data] Downloading package punkt to\n",
      "[nltk_data]     C:\\Users\\aman2\\AppData\\Roaming\\nltk_data...\n",
      "[nltk_data]   Package punkt is already up-to-date!\n",
      "[nltk_data] Downloading package stopwords to\n",
      "[nltk_data]     C:\\Users\\aman2\\AppData\\Roaming\\nltk_data...\n",
      "[nltk_data]   Package stopwords is already up-to-date!\n",
      "[nltk_data] Downloading package wordnet to\n",
      "[nltk_data]     C:\\Users\\aman2\\AppData\\Roaming\\nltk_data...\n",
      "[nltk_data]   Package wordnet is already up-to-date!\n"
     ]
    },
    {
     "data": {
      "text/plain": [
       "True"
      ]
     },
     "execution_count": 2,
     "metadata": {},
     "output_type": "execute_result"
    }
   ],
   "source": [
    "nltk.download('punkt')\n",
    "nltk.download('stopwords')\n",
    "nltk.download('wordnet')"
   ]
  },
  {
   "cell_type": "code",
   "execution_count": 3,
   "id": "accomplished-canada",
   "metadata": {},
   "outputs": [],
   "source": [
    "def scrap_text(title):\n",
    "    \"\"\"\n",
    "    scrap text data from wikipedia of given title\n",
    "    \n",
    "    \"\"\"\n",
    "    \n",
    "    wiki = \"https://en.wikipedia.org/wiki/\"+title\n",
    "    scraped_data = urlopen(wiki)\n",
    "    article = scraped_data.read()\n",
    "    parsed_article = bs(article,'html.parser')\n",
    "    paragraphs = parsed_article.find_all('p')\n",
    "    article_text = \"\"\n",
    "\n",
    "    for p in paragraphs:\n",
    "        article_text += p.text\n",
    "        \n",
    "    return article_text"
   ]
  },
  {
   "cell_type": "code",
   "execution_count": 4,
   "id": "buried-vegetable",
   "metadata": {},
   "outputs": [],
   "source": [
    "def preprocessing_text(article_text):\n",
    "    \"\"\"\n",
    "    removing digits and special sumbols\n",
    "    \"\"\"\n",
    "    \n",
    "    article_text = re.sub(r'\\[[0-9]*\\]', ' ', article_text)\n",
    "    article_text = re.sub(r'\\s+', ' ', article_text)\n",
    "    \n",
    "    formatted_article_text = re.sub('[^a-zA-Z\\.]', ' ', article_text )\n",
    "    formatted_article_text = re.sub(r'\\s+', ' ', formatted_article_text)\n",
    "    return formatted_article_text"
   ]
  },
  {
   "cell_type": "code",
   "execution_count": 5,
   "id": "charming-agreement",
   "metadata": {},
   "outputs": [],
   "source": [
    "Titles = ['science','technology','space']"
   ]
  },
  {
   "cell_type": "code",
   "execution_count": 6,
   "id": "adverse-division",
   "metadata": {},
   "outputs": [],
   "source": [
    "article_text=\"\"\n",
    "for title in Titles:\n",
    "    scrapped_article = scrap_text(title)\n",
    "    article_text += preprocessing_text(scrapped_article)\n"
   ]
  },
  {
   "cell_type": "code",
   "execution_count": 7,
   "id": "cheap-immunology",
   "metadata": {},
   "outputs": [],
   "source": [
    "sentence_list = nltk.sent_tokenize(article_text)"
   ]
  },
  {
   "cell_type": "code",
   "execution_count": 8,
   "id": "forty-webcam",
   "metadata": {},
   "outputs": [],
   "source": [
    "lemmatizer = WordNetLemmatizer() \n",
    "stopwords = nltk.corpus.stopwords.words('english')"
   ]
  },
  {
   "cell_type": "code",
   "execution_count": 9,
   "id": "arabic-maldives",
   "metadata": {},
   "outputs": [],
   "source": [
    "word_frequencies = {}\n",
    "for w in nltk.word_tokenize(article_text):\n",
    "    if w not in stopwords:\n",
    "        word = lemmatizer.lemmatize(w)\n",
    "        if word not in word_frequencies.keys():\n",
    "            word_frequencies[word] = 1\n",
    "        else:\n",
    "            word_frequencies[word] += 1"
   ]
  },
  {
   "cell_type": "code",
   "execution_count": null,
   "id": "toxic-sleeve",
   "metadata": {},
   "outputs": [],
   "source": []
  }
 ],
 "metadata": {
  "kernelspec": {
   "display_name": "Python 3",
   "language": "python",
   "name": "python3"
  },
  "language_info": {
   "codemirror_mode": {
    "name": "ipython",
    "version": 3
   },
   "file_extension": ".py",
   "mimetype": "text/x-python",
   "name": "python",
   "nbconvert_exporter": "python",
   "pygments_lexer": "ipython3",
   "version": "3.7.10"
  }
 },
 "nbformat": 4,
 "nbformat_minor": 5
}
